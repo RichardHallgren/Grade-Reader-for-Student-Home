{
 "cells": [
  {
   "cell_type": "markdown",
   "metadata": {},
   "source": [
    "## GradeReader\n",
    "\n",
    "This program was created to automatically read and process grades submitted by students from their university or universities to their student appartment land lord. The land lords require the students to pass a minimum of 15 HP (högskolepoäng) each semester to be allowed to stay in their student apartment (this is to prevent non-students from living in the appartments).\n",
    "\n",
    "Currently the land lords have to manually check the records provided by the students in pdf-file. This program reads the pdf-files, process the file to sum up the grades and check if the student meet the requirement. This program is a part of a larger administration software-system for the land lord."
   ]
  },
  {
   "cell_type": "code",
   "execution_count": 79,
   "metadata": {},
   "outputs": [],
   "source": [
    "import pandas as pd\n",
    "import numpy as np\n",
    "import re\n",
    "import datetime\n",
    "import os\n"
   ]
  },
  {
   "cell_type": "code",
   "execution_count": 373,
   "metadata": {},
   "outputs": [
    {
     "name": "stdout",
     "output_type": "stream",
     "text": [
      "['BoAdmin.ipynb', 'GradeReader.py.zip', 'GradeReader.py', 'R”da koset.pdf', 'studieintygtrafiklararutbildning.pdf', 'Untitled.ipynb', 'sodertorn2.pdf', 'sthlmuni2.pdf', 'resuktatintyg.pdf', 'Stockholms universitet.pdf', 'sthlmuni3.pdf', 'kth.pdf', 'sthlmuni4.pdf', 'sthlmuni5.pdf', 'sthlmuni6.pdf', '.ipynb_checkpoints', 'sodertorn.pdf', 'Intyg.pdf', 'Uppsala.pdf', 'Uppsalauni.pdf', 'GIH.pdf', 'Stockholms universitet2.pdf', 'sthlmuni.pdf', 'Stockholms universitet22.pdf']\n"
     ]
    }
   ],
   "source": [
    "arr = os.listdir()\n",
    "print(arr)"
   ]
  },
  {
   "cell_type": "code",
   "execution_count": 465,
   "metadata": {},
   "outputs": [],
   "source": [
    "path = 'sodertorn2.pdf'"
   ]
  },
  {
   "cell_type": "code",
   "execution_count": 466,
   "metadata": {},
   "outputs": [],
   "source": [
    "# Import Tika PDF parser\n",
    "from tika import parser\n",
    "\n",
    "# Read PDF-file\n",
    "try:\n",
    "    rawText = parser.from_file(path)\n",
    "\n",
    "    rawList = rawText['content'].splitlines()\n",
    "except:\n",
    "    print('Ingen PDF-fil')"
   ]
  },
  {
   "cell_type": "code",
   "execution_count": 467,
   "metadata": {},
   "outputs": [
    {
     "name": "stdout",
     "output_type": "stream",
     "text": [
      "Uni extract\n",
      "                                          Object   HP       Date\n",
      "0        Redovisning och beskattning, seminarier  1.5 2019-11-04\n",
      "1  Samhälle, marknad och företagande, seminarier  1.5 2019-12-04\n",
      "2                    Ekonomistyrning, seminarier  1.5 2020-01-14\n",
      "3    Samhälle, marknad och företagande, tentamen  6.0 2020-01-30\n",
      "Total HP during period: 10.5\n",
      "Approved? No\n"
     ]
    }
   ],
   "source": [
    "# Define approved grades\n",
    "approved_grades = ['A', 'B', 'C', 'D', 'E', 'G', 'VG', 'MVG', 'AB', 'BA', '3', '4', '5', 'P']\n",
    "\n",
    "# Set required hp\n",
    "points_req = 15\n",
    "\n",
    "# Set date interval\n",
    "# 1 september -> 1 februari\n",
    "start_date = '2019-09-1'\n",
    "end_date = '2020-02-01'\n",
    "\n",
    "def decode_ladok_extract(rawList):\n",
    "    # Decode extracts from Ladok (containing all of the students records from all universites)\n",
    "    completed_courses = []\n",
    "    prev_line = 'None'\n",
    "    prev2_line = 'None'\n",
    "\n",
    "    for line in rawList:\n",
    "        if line != '': # skip empty lines\n",
    "            if bool(re.search(r'20',  line)): # check for lines containing 20, indicating a date\n",
    "                splitted = line.split()\n",
    "                try:\n",
    "                    if splitted[-2] in approved_grades: # check if line contains a grade in the correct position\n",
    "                        course_name = ' '.join(splitted[0:-4])\n",
    "                        if len(course_name) < 1:\n",
    "                            course_name = prev2_line + ' ' + prev_line\n",
    "                        course_points = splitted[-3].strip('()')\n",
    "                        course_complete_date = splitted[-1]\n",
    "                        completed_courses.append([course_name, course_points, course_complete_date])\n",
    "                    if splitted[-3] in approved_grades and ')' in splitted[-4]: # check if line contains a grade in the correct position\n",
    "                        course_name = ' '.join(splitted[0:-5])\n",
    "                        if len(course_name) < 1:\n",
    "                            course_name = prev2_line + ' ' + prev_line\n",
    "                        course_points = splitted[-4].strip('()')\n",
    "                        course_complete_date = splitted[-2]\n",
    "                        completed_courses.append([course_name, course_points, course_complete_date])\n",
    "                except:\n",
    "                    continue\n",
    "            prev2_line = prev_line.strip()\n",
    "            prev_line = line.strip()\n",
    "            \n",
    "    df = pd.DataFrame(completed_courses, columns=['Object', 'HP', 'Date'])\n",
    "    df['HP'] = pd.to_numeric(df['HP'])\n",
    "    df['Date'] = pd.to_datetime(df['Date'])\n",
    "    \n",
    "    approval = calculate_approval(df)\n",
    "    \n",
    "    return approval\n",
    "\n",
    "def decode_uni_extract(rawList):\n",
    "    # Decode extract from students university\n",
    "    completed_courses = []\n",
    "    avklarade = 0\n",
    "    ej_avklarade = 0\n",
    "    prev_line = 'None' # keep track of previous\n",
    "    prev2_line = 'None' # keep track of the line before the previous line\n",
    "    \n",
    "    rawList_reduced = rawList[rawList.index('Resultatintyg'):]\n",
    "\n",
    "    for line in rawList_reduced:\n",
    "        if bool(re.search('Avklarade',  line)):\n",
    "            avklarade = 1\n",
    "            ej_avklarade = 0\n",
    "        if bool(re.search('slutrapporterade', line)):\n",
    "            avklarade = 0\n",
    "            ej_avklarade = 1\n",
    "        # check for completed hp in completed courses\n",
    "        if line != '' and avklarade == 1 and ej_avklarade == 0:\n",
    "            if bool(re.search(r'20',  line)):\n",
    "                splitted = line.split()\n",
    "                if splitted[-3] in approved_grades and '(' in splitted[-5]:\n",
    "                    course_name = ' '.join(splitted[1:-5])\n",
    "                    if len(course_name) < 1:\n",
    "                        course_name = prev2_line + ' ' + prev_line\n",
    "                    course_points = splitted[-5].strip('()').replace(',','.')\n",
    "                    course_complete_date = splitted[-2].replace('\\xad', '-')\n",
    "                    completed_courses.append([course_name, course_points, course_complete_date])\n",
    "            prev2_line = prev_line.strip()\n",
    "            prev_line = line.strip()\n",
    "        \n",
    "        # check for completed hp in NON-completed courses\n",
    "        if line != '' and avklarade == 0 and ej_avklarade ==1:\n",
    "            if bool(re.search(r'20',  line)):\n",
    "                splitted = line.split()\n",
    "                if splitted[-3] in approved_grades:\n",
    "                    course_name = ' '.join(splitted[1:-5])\n",
    "                    if len(course_name) < 1:\n",
    "                        course_name = prev2_line + ' ' + prev_line\n",
    "                    course_points = splitted[-5].strip('()').replace(',','.')\n",
    "                    course_complete_date = splitted[-2].replace('\\xad', '-')\n",
    "                    completed_courses.append([course_name, course_points, course_complete_date])\n",
    "            prev2_line = prev_line.strip()\n",
    "            prev_line = line.strip()\n",
    "    \n",
    "    # create dataframe of completed courses\n",
    "    df = pd.DataFrame(completed_courses, columns=['Object', 'HP', 'Date'])\n",
    "    df['HP'] = pd.to_numeric(df['HP'])\n",
    "    df['Date'] = pd.to_datetime(df['Date'])\n",
    "    \n",
    "    approval = calculate_approval(df)\n",
    "    \n",
    "    return approval\n",
    "\n",
    "def calculate_approval(df):\n",
    "    df = df[(df['Date'] > start_date) & (df['Date'] < end_date)]\n",
    "\n",
    "    if df.HP.sum() > points_req:\n",
    "        approval = 'Yes'\n",
    "    else:\n",
    "        approval = 'No'\n",
    "\n",
    "    print(df)\n",
    "    print('Total HP during period:', df.HP.sum())\n",
    "\n",
    "    print('Approved?', approval)\n",
    "    \n",
    "    return approval\n",
    "\n",
    "# Check what type of student record to process\n",
    "if 'Nationellt studieintyg' in rawList and 'Sveriges högskolor och universitet' in rawList:\n",
    "    print('Ladok extract')\n",
    "    decode_ladok_extract(rawList)\n",
    "elif 'Registreringsintyg' in rawList:\n",
    "    print('Endast nationella studieintyg eller resultatintyg godkänns, '\n",
    "          'du har skickat in ett registreringsintyg.')\n",
    "elif 'Resultatintyg' in rawList:\n",
    "    print('Uni extract')\n",
    "    decode_uni_extract(rawList)\n",
    "else:\n",
    "    print('Ogiltig fil')\n",
    "                \n",
    "    "
   ]
  },
  {
   "cell_type": "code",
   "execution_count": null,
   "metadata": {},
   "outputs": [],
   "source": []
  },
  {
   "cell_type": "code",
   "execution_count": null,
   "metadata": {},
   "outputs": [],
   "source": []
  }
 ],
 "metadata": {
  "kernelspec": {
   "display_name": "Python 3",
   "language": "python",
   "name": "python3"
  },
  "language_info": {
   "codemirror_mode": {
    "name": "ipython",
    "version": 3
   },
   "file_extension": ".py",
   "mimetype": "text/x-python",
   "name": "python",
   "nbconvert_exporter": "python",
   "pygments_lexer": "ipython3",
   "version": "3.7.3"
  }
 },
 "nbformat": 4,
 "nbformat_minor": 2
}
